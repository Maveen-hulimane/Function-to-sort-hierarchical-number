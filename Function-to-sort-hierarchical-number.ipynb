{
 "cells": [
  {
   "cell_type": "code",
   "execution_count": 5,
   "metadata": {},
   "outputs": [],
   "source": [
    "def solution(l):\n",
    "    b_list=[]\n",
    "    for i in l:\n",
    "        temp=list(map(int,i.split('.')))\n",
    "        b_list.append(temp)\n",
    "    b_list=sorted(b_list)\n",
    "    result = ['.'.join(list(map(str,i)))  for i in b_list]\n",
    "    return result"
   ]
  },
  {
   "cell_type": "code",
   "execution_count": 6,
   "metadata": {},
   "outputs": [
    {
     "data": {
      "text/plain": [
       "['0', '0.0', '1.1.1', '1.2.3', '2', '2.0', '2.0.1', '4.5.1', '11', '11.2']"
      ]
     },
     "execution_count": 6,
     "metadata": {},
     "output_type": "execute_result"
    }
   ],
   "source": [
    "solution(['1.1.1','0.0','11.2','0','11','2.0','2','4.5.1','1.2.3','2.0.1'])"
   ]
  },
  {
   "cell_type": "code",
   "execution_count": null,
   "metadata": {},
   "outputs": [],
   "source": []
  }
 ],
 "metadata": {
  "kernelspec": {
   "display_name": "Python 3",
   "language": "python",
   "name": "python3"
  },
  "language_info": {
   "codemirror_mode": {
    "name": "ipython",
    "version": 3
   },
   "file_extension": ".py",
   "mimetype": "text/x-python",
   "name": "python",
   "nbconvert_exporter": "python",
   "pygments_lexer": "ipython3",
   "version": "3.7.9"
  }
 },
 "nbformat": 4,
 "nbformat_minor": 4
}
